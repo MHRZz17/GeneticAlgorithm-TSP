{
 "cells": [
  {
   "cell_type": "markdown",
   "id": "1802ad04-4aa8-478b-abff-f3cbf5bee26c",
   "metadata": {},
   "source": [
    "# Importing Dependencies"
   ]
  },
  {
   "cell_type": "code",
   "execution_count": 138,
   "id": "5f70e6a0-aa80-4c3c-af88-e26cdd5ddd4b",
   "metadata": {},
   "outputs": [],
   "source": [
    "from random import randint as rnd\n",
    "from random import shuffle\n",
    "from math import sqrt"
   ]
  },
  {
   "cell_type": "markdown",
   "id": "11d3ebf2-bd68-4cf1-b750-1344218ef9c4",
   "metadata": {},
   "source": [
    "# Initialize Parameters"
   ]
  },
  {
   "cell_type": "code",
   "execution_count": 139,
   "id": "1894e552-070f-49b7-a556-b7ab4eef8a7f",
   "metadata": {},
   "outputs": [],
   "source": [
    "n_cities=14\n",
    "population_size=100\n",
    "a_cross=7\n",
    "epoch=70"
   ]
  },
  {
   "cell_type": "code",
   "execution_count": 140,
   "id": "75bfc682-178a-4085-9cfb-c6e98adfce76",
   "metadata": {},
   "outputs": [],
   "source": [
    "#Burma14 dataset\n",
    "cities_locations=[\n",
    "          [16.47,96.10],\n",
    "          [16.47,94.44],\n",
    "          [20.09,92.54],\n",
    "          [22.39,93.37],\n",
    "          [25.23,97.24],\n",
    "          [22.00,96.05],\n",
    "          [20.47,97.02],\n",
    "          [17.20,96.29],\n",
    "          [16.30,97.38],\n",
    "          [14.05,98.12],\n",
    "          [16.53,97.38],\n",
    "          [21.52,95.59],\n",
    "          [19.41,97.13],\n",
    "          [20.09,94.55],\n",
    "                ]"
   ]
  },
  {
   "cell_type": "markdown",
   "id": "0237e184-81b1-43a5-95d1-4a92a64c66dd",
   "metadata": {},
   "source": [
    "# 1.Initial Population Function (Random)"
   ]
  },
  {
   "cell_type": "code",
   "execution_count": 141,
   "id": "78ee1d85-7593-4e9f-8de2-65c0c2f0f0ce",
   "metadata": {},
   "outputs": [],
   "source": [
    "def initialPopulaton(population_size,n_cities):\n",
    "    population_list=[]\n",
    "    for _ in range(population_size):\n",
    "        path=[i for i in range(n_cities)]\n",
    "        shuffle(path)\n",
    "        path.append(None)\n",
    "        population_list.append(path)\n",
    "    return population_list         "
   ]
  },
  {
   "cell_type": "markdown",
   "id": "9213a5c0-de45-47ee-a820-535ee81abab3",
   "metadata": {},
   "source": [
    "# Fitness Function"
   ]
  },
  {
   "cell_type": "code",
   "execution_count": 142,
   "id": "a2c83595-4a3e-4960-9544-3f1320562079",
   "metadata": {},
   "outputs": [],
   "source": [
    "def fitness(population_list,n_cities,cities_locations):\n",
    "    for i in population_list:\n",
    "        dis=0\n",
    "        for j in range(n_cities-1):\n",
    "            dis+=sqrt(((cities_locations[i[j]][0]-cities_locations[i[j+1]][0])**2)+((cities_locations[i[j]][1]-cities_locations[i[j+1]][1])**2))\n",
    "        i[n_cities]=dis\n",
    "    return population_list   "
   ]
  },
  {
   "cell_type": "markdown",
   "id": "7a3ec16b-8104-4ea3-98a4-088cb64459ec",
   "metadata": {},
   "source": [
    "# Sorter Function"
   ]
  },
  {
   "cell_type": "code",
   "execution_count": 143,
   "id": "607dad3a-f5db-486c-ac99-9ff17e89fbf2",
   "metadata": {},
   "outputs": [],
   "source": [
    "def sorter(n_cities,population_list):\n",
    "    population_list.sort(key = lambda x:x[n_cities])\n",
    "    return population_list"
   ]
  },
  {
   "cell_type": "markdown",
   "id": "1d9055f2-c9d4-48b5-a191-eb8817f942d2",
   "metadata": {},
   "source": [
    "# CrossOver Function --> (Single Point)"
   ]
  },
  {
   "cell_type": "code",
   "execution_count": 144,
   "id": "7bd809bb-a32e-4467-9560-debf15b0bc79",
   "metadata": {},
   "outputs": [],
   "source": [
    "def crossOver(population_list,a_cross,population_size):\n",
    "    c=0\n",
    "    for _ in range(population_size//2):\n",
    "        off_spring1 = population_list[c][:a_cross] + population_list[c+1][a_cross:n_cities]\n",
    "        off_spring2 = population_list[c+1][:a_cross] + population_list[c][a_cross:n_cities]\n",
    "        \n",
    "        def replace_duplicates_with_unique(lst):\n",
    "            count_dict = {}\n",
    "            for num in lst:\n",
    "                count_dict[num] = count_dict.get(num, 0) + 1\n",
    "\n",
    "            duplicates = [num for num, count in count_dict.items() if count > 1]\n",
    "\n",
    "            unique_num = 0\n",
    "            for num in duplicates:\n",
    "                while unique_num in lst:\n",
    "                    unique_num += 1\n",
    "                lst[lst.index(num)] = unique_num\n",
    "                unique_num += 1\n",
    "\n",
    "            return lst\n",
    "        \n",
    "        off_spring1 = replace_duplicates_with_unique(off_spring1)\n",
    "        off_spring2 = replace_duplicates_with_unique(off_spring2)\n",
    "        \n",
    "        population_list.append(off_spring1+[None])\n",
    "        population_list.append(off_spring2+[None])\n",
    "        c+=2        \n",
    "    return population_list   "
   ]
  },
  {
   "cell_type": "markdown",
   "id": "9638e99d-ccfd-4075-a3cc-4cadf1321d3b",
   "metadata": {},
   "source": [
    "# Meutation --> ()"
   ]
  },
  {
   "cell_type": "code",
   "execution_count": 145,
   "id": "5e573168-263e-46e8-89a6-73854035ed35",
   "metadata": {},
   "outputs": [],
   "source": [
    "def meutation(population_list,population_size):\n",
    "    i=population_size\n",
    "    while i< population_size*2:\n",
    "        cell1=rnd(0,n_cities-1)\n",
    "        cell2=rnd(0,n_cities-1)\n",
    "        if cell2!=cell1:\n",
    "            population_list[i][cell1],population_list[i][cell2]=population_list[i][cell2],population_list[i][cell1]\n",
    "            i+=1\n",
    "    return population_list       "
   ]
  },
  {
   "cell_type": "markdown",
   "id": "3f310709-4a50-4070-ae25-c3a4661e6cc1",
   "metadata": {},
   "source": [
    "# Selection Function --> ()"
   ]
  },
  {
   "cell_type": "code",
   "execution_count": 146,
   "id": "a9707d2b-1a52-458b-a967-b87a819629d8",
   "metadata": {},
   "outputs": [],
   "source": [
    "def selection(population_size,population_list):\n",
    "    population_list[:population_size]\n",
    "    return population_list"
   ]
  },
  {
   "cell_type": "markdown",
   "id": "c318b171-cd07-4e7f-ac70-9f9afa0a5e4e",
   "metadata": {},
   "source": [
    "# Main"
   ]
  },
  {
   "cell_type": "code",
   "execution_count": 149,
   "id": "1bbe26b3-1e7a-4cb2-ad5b-ef2e7c53c5a9",
   "metadata": {},
   "outputs": [
    {
     "name": "stdout",
     "output_type": "stream",
     "text": [
      "[9, 8, 10, 12, 6, 11, 5, 4, 3, 2, 13, 7, 0, 1, 27.479388646269175]\n"
     ]
    }
   ],
   "source": [
    "if __name__ == \"__main__\":\n",
    "    current_populaton = initialPopulaton(population_size,n_cities)\n",
    "    # print(current_populaton)\n",
    "    # print(\"*\"*30)\n",
    "    current_populaton = fitness(current_populaton,n_cities,cities_locations)\n",
    "    # print(current_populaton)\n",
    "    # print(\"*\"*30)\n",
    "    current_populaton = sorter(n_cities,current_populaton)\n",
    "    # print(current_populaton)\n",
    "    # print(\"*\"*30)\n",
    "    for _ in range(epoch):\n",
    "        current_populaton = crossOver(current_populaton,a_cross,population_size)\n",
    "        # print(current_populaton)\n",
    "        # print(\"*\"*30)\n",
    "        current_populaton = meutation(current_populaton,population_size)\n",
    "        # print(current_populaton)\n",
    "        # print(\"*\"*30)\n",
    "        current_populaton = fitness(current_populaton,n_cities,cities_locations)\n",
    "        # print(current_populaton)\n",
    "        # print(\"*\"*30)\n",
    "        current_populaton = sorter(n_cities,current_populaton)\n",
    "        # print(current_populaton)\n",
    "        # print(\"*\"*30)\n",
    "        current_populaton = selection(population_size,current_populaton)\n",
    "        # print(current_populaton)\n",
    "        # print(\"*\"*30)\n",
    "    print(current_populaton[0])"
   ]
  },
  {
   "cell_type": "code",
   "execution_count": null,
   "id": "2bebf292-f2f7-42f9-847b-ceb511559850",
   "metadata": {},
   "outputs": [],
   "source": []
  },
  {
   "cell_type": "code",
   "execution_count": null,
   "id": "b0c9e0b2-0f7c-4a64-8016-801406156ea0",
   "metadata": {},
   "outputs": [],
   "source": []
  }
 ],
 "metadata": {
  "kernelspec": {
   "display_name": "Python 3 (ipykernel)",
   "language": "python",
   "name": "python3"
  },
  "language_info": {
   "codemirror_mode": {
    "name": "ipython",
    "version": 3
   },
   "file_extension": ".py",
   "mimetype": "text/x-python",
   "name": "python",
   "nbconvert_exporter": "python",
   "pygments_lexer": "ipython3",
   "version": "3.11.2"
  }
 },
 "nbformat": 4,
 "nbformat_minor": 5
}
